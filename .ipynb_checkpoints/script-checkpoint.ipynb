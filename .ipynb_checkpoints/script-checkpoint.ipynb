{
 "cells": [
  {
   "cell_type": "code",
   "execution_count": 1,
   "id": "5d5d41d9-a0a8-4223-bce5-8ebf0ac5ae76",
   "metadata": {},
   "outputs": [],
   "source": [
    "import pandas as pd\n",
    "import requests\n",
    "from bs4 import BeautifulSoup"
   ]
  },
  {
   "cell_type": "code",
   "execution_count": 2,
   "id": "94d1370c-05a5-4046-9e1e-986a126f4bd6",
   "metadata": {},
   "outputs": [
    {
     "ename": "NameError",
     "evalue": "name 'df' is not defined",
     "output_type": "error",
     "traceback": [
      "\u001b[0;31m---------------------------------------------------------------------------\u001b[0m",
      "\u001b[0;31mNameError\u001b[0m                                 Traceback (most recent call last)",
      "Cell \u001b[0;32mIn[2], line 51\u001b[0m\n\u001b[1;32m     43\u001b[0m     data \u001b[38;5;241m=\u001b[39m {\n\u001b[1;32m     44\u001b[0m         \u001b[38;5;124m\"\u001b[39m\u001b[38;5;124mAddress\u001b[39m\u001b[38;5;124m\"\u001b[39m: addresses,\n\u001b[1;32m     45\u001b[0m         \u001b[38;5;124m\"\u001b[39m\u001b[38;5;124mPrice\u001b[39m\u001b[38;5;124m\"\u001b[39m: prices,\n\u001b[1;32m     46\u001b[0m         \u001b[38;5;124m\"\u001b[39m\u001b[38;5;124mSize\u001b[39m\u001b[38;5;124m\"\u001b[39m: sizes,\n\u001b[1;32m     47\u001b[0m     }\n\u001b[1;32m     49\u001b[0m     df \u001b[38;5;241m=\u001b[39m pd\u001b[38;5;241m.\u001b[39mDataFrame(data)\n\u001b[0;32m---> 51\u001b[0m \u001b[43mdf\u001b[49m\u001b[38;5;241m.\u001b[39mhead()\n",
      "\u001b[0;31mNameError\u001b[0m: name 'df' is not defined"
     ]
    }
   ],
   "source": [
    "# URL of the page to scrape for apartments in Berlin\n",
    "url = \"https://www.immobilienscout24.de/Suche/de/berlin/berlin/wohnung-kaufen?viewMode=HYBRID_VIEW\"\n",
    "\n",
    "# Set headers to mimic a browser request\n",
    "headers = {\n",
    "    'User-Agent': 'Mozilla/5.0 (Windows NT 10.0; Win64; x64) AppleWebKit/537.36 (KHTML, like Gecko) Chrome/91.0.4472.124 Safari/537.36',\n",
    "}\n",
    "\n",
    "# Send a GET request to fetch the page content\n",
    "response = requests.get(url, headers=headers)\n",
    "\n",
    "# Check if the response is successful\n",
    "if response.status_code == 200:\n",
    "    print(\"Page loaded successfully.\")\n",
    "    soup = BeautifulSoup(response.content, 'html.parser')\n",
    "\n",
    "    time.sleep(1)  \n",
    "    \n",
    "    # Find all listings on the page\n",
    "    listings = soup.find_all(\"article\", class_=\"result-list__listing\")  # Adjusted class name\n",
    "\n",
    "    addresses = []\n",
    "    prices = []\n",
    "    sizes = []\n",
    "\n",
    "    # Extract relevant data from each listing\n",
    "    for listing in listings:\n",
    "        try:\n",
    "            # Adjust these selectors based on actual HTML structure\n",
    "            address = listing.find(\"div\", class_=\"result-list__address\").get_text(strip=True)\n",
    "            price = listing.find(\"div\", class_=\"result-list__price\").get_text(strip=True)\n",
    "            size = listing.find(\"div\", class_=\"result-list__living-space\").get_text(strip=True)\n",
    "\n",
    "            # Append data to lists\n",
    "            addresses.append(address)\n",
    "            prices.append(price)\n",
    "            sizes.append(size)\n",
    "\n",
    "        except AttributeError:\n",
    "            continue  # Skip if any attribute is missing\n",
    "\n",
    "    # Create a DataFrame from the scraped data\n",
    "    data = {\n",
    "        \"Address\": addresses,\n",
    "        \"Price\": prices,\n",
    "        \"Size\": sizes,\n",
    "    }\n",
    "\n",
    "    df = pd.DataFrame(data)\n",
    "\n",
    "df.head()"
   ]
  },
  {
   "cell_type": "code",
   "execution_count": null,
   "id": "49f3f074-48ad-41f5-ac9d-bcfded0ccf7b",
   "metadata": {},
   "outputs": [],
   "source": [
    "df.to_csv('data.csv', index=False, encoding='utf-8')"
   ]
  },
  {
   "cell_type": "code",
   "execution_count": null,
   "id": "254c2b94-2644-4d4e-8019-e54b6f63b219",
   "metadata": {},
   "outputs": [],
   "source": []
  }
 ],
 "metadata": {
  "kernelspec": {
   "display_name": "Python 3 (ipykernel)",
   "language": "python",
   "name": "python3"
  },
  "language_info": {
   "codemirror_mode": {
    "name": "ipython",
    "version": 3
   },
   "file_extension": ".py",
   "mimetype": "text/x-python",
   "name": "python",
   "nbconvert_exporter": "python",
   "pygments_lexer": "ipython3",
   "version": "3.12.5"
  }
 },
 "nbformat": 4,
 "nbformat_minor": 5
}
