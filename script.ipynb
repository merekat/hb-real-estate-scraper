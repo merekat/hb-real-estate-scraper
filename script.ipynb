{
 "cells": [
  {
   "cell_type": "code",
   "execution_count": 7,
   "id": "5d5d41d9-a0a8-4223-bce5-8ebf0ac5ae76",
   "metadata": {},
   "outputs": [],
   "source": [
    "import asyncio\n",
    "import nest_asyncio\n",
    "from playwright.async_api import async_playwright\n",
    "import time\n",
    "import pandas as pd"
   ]
  },
  {
   "cell_type": "markdown",
   "id": "b7518159",
   "metadata": {},
   "source": [
    "In case you haven't installed playwright headless browser execute the following cell. "
   ]
  },
  {
   "cell_type": "code",
   "execution_count": 8,
   "id": "6c0e8b95",
   "metadata": {},
   "outputs": [],
   "source": [
    "# !playwright install"
   ]
  },
  {
   "cell_type": "code",
   "execution_count": 19,
   "id": "94d1370c-05a5-4046-9e1e-986a126f4bd6",
   "metadata": {},
   "outputs": [
    {
     "name": "stderr",
     "output_type": "stream",
     "text": [
      "INFO:__main__:Navigating to URL: https://www.immobilienscout24.de/Suche/de/berlin/berlin/wohnung-kaufen\n",
      "INFO:__main__:Page loaded. Waiting for network idle...\n",
      "INFO:__main__:Network is idle. Looking for listings...\n",
      "INFO:__main__:Scraping page 1...\n",
      "ERROR:__main__:Timeout waiting for listings on page 1. Taking a screenshot for debugging.\n",
      "INFO:__main__:Current URL: https://www.immobilienscout24.de/Suche/de/berlin/berlin/wohnung-kaufen\n",
      "INFO:__main__:Total apartments scraped: 0\n",
      "INFO:__main__:First few rows of scraped data:\n",
      "INFO:__main__:Empty DataFrame\n",
      "Columns: []\n",
      "Index: []\n",
      "INFO:__main__:Data saved to berlin_apartments.csv\n"
     ]
    }
   ],
   "source": [
    "import asyncio\n",
    "import nest_asyncio\n",
    "from playwright.async_api import async_playwright, TimeoutError\n",
    "import pandas as pd\n",
    "import logging\n",
    "\n",
    "# Set up logging\n",
    "logging.basicConfig(level=logging.INFO)\n",
    "logger = logging.getLogger(__name__)\n",
    "\n",
    "# Apply nest_asyncio patch\n",
    "nest_asyncio.apply()\n",
    "\n",
    "async def scrape_immoscout24():\n",
    "    async with async_playwright() as p:\n",
    "        browser = await p.chromium.launch(headless=False)  # Set to False for debugging\n",
    "        context = await browser.new_context(\n",
    "            user_agent='Mozilla/5.0 (Windows NT 10.0; Win64; x64) AppleWebKit/537.36 (KHTML, like Gecko) Chrome/91.0.4472.124 Safari/537.36',\n",
    "            viewport={'width': 1920, 'height': 1080},\n",
    "        )\n",
    "        page = await context.new_page()\n",
    "        \n",
    "        # URL for apartments for sale in Berlin\n",
    "        url = 'https://www.immobilienscout24.de/Suche/de/berlin/berlin/wohnung-kaufen'\n",
    "        \n",
    "        logger.info(f\"Navigating to URL: {url}\")\n",
    "        await page.goto(url, wait_until=\"domcontentloaded\", timeout=60000)\n",
    "        logger.info(\"Page loaded. Waiting for network idle...\")\n",
    "        await page.wait_for_load_state('networkidle', timeout=60000)\n",
    "        logger.info(\"Network is idle. Looking for listings...\")\n",
    "\n",
    "        # Disable webdriver detection\n",
    "        await page.evaluate(\"() => { Object.defineProperty(navigator, 'webdriver', { get: () => undefined }) }\")\n",
    "\n",
    "        apartments = []\n",
    "        has_next_page = True\n",
    "        page_num = 1\n",
    "\n",
    "        while has_next_page:\n",
    "            logger.info(f\"Scraping page {page_num}...\")\n",
    "            \n",
    "            # Wait for the listings to load\n",
    "            try:\n",
    "                await page.wait_for_selector('article[data-id]', state='visible', timeout=60000)\n",
    "            except TimeoutError:\n",
    "                logger.error(f\"Timeout waiting for listings on page {page_num}. Taking a screenshot for debugging.\")\n",
    "                await page.screenshot(path=f'debug_screenshot_page{page_num}.png')\n",
    "                logger.info(f\"Current URL: {page.url}\")\n",
    "                break\n",
    "\n",
    "            # Extract data from each listing\n",
    "            page_apartments = await page.evaluate(\"\"\"\n",
    "                () => {\n",
    "                    const listings = document.querySelectorAll('#listings');\n",
    "                    return Array.from(listings).map(listing => {\n",
    "                        const title = listing.querySelector('.result-list-entry__brand-title')?.textContent.trim();\n",
    "                        const price = listing.querySelector('.result-list-entry__primary-criterion:nth-child(1) dd:nth-child(1)')?.textContent.trim();\n",
    "                        const size = listing.querySelector('.result-list-entry__primary-criterion:nth-child(2) dd:nth-child(1)')?.textContent.trim();\n",
    "                        const address = listing.querySelector('.result-list-entry__map-link')?.textContent.trim();\n",
    "                        const link = listing.querySelector('a.result-list-entry__brand-title-container')?.href;\n",
    "\n",
    "                        return { title, price, size, address, link };\n",
    "                    });\n",
    "                }\n",
    "            \"\"\")\n",
    "\n",
    "            apartments.extend(page_apartments)\n",
    "\n",
    "            # Check if there's a next page\n",
    "            has_next_page = await page.evaluate(\"\"\"\n",
    "                () => {\n",
    "                    const nextButton = document.querySelector('a[data-is24-qa=\"paging-next\"]');\n",
    "                    return nextButton && !nextButton.hasAttribute('disabled');\n",
    "                }\n",
    "            \"\"\")\n",
    "\n",
    "            if has_next_page:\n",
    "                await page.click('a[data-is24-qa=\"paging-next\"]')\n",
    "                await page.wait_for_load_state('networkidle')\n",
    "                page_num += 1\n",
    "            \n",
    "            # Add a small delay to be respectful to the website\n",
    "            await asyncio.sleep(2)\n",
    "\n",
    "        await browser.close()\n",
    "\n",
    "        logger.info(f\"Total apartments scraped: {len(apartments)}\")\n",
    "        return apartments\n",
    "\n",
    "async def main():\n",
    "    try:\n",
    "        apartments = await scrape_immoscout24()\n",
    "        \n",
    "        # Convert the list of dictionaries to a DataFrame\n",
    "        df = pd.DataFrame(apartments)\n",
    "        \n",
    "        # Display the first few rows of the DataFrame\n",
    "        logger.info(\"First few rows of scraped data:\")\n",
    "        logger.info(df.head())\n",
    "        \n",
    "        # Save the DataFrame to a CSV file\n",
    "        df.to_csv('berlin_apartments.csv', index=False)\n",
    "        logger.info(\"Data saved to berlin_apartments.csv\")\n",
    "\n",
    "        return df \n",
    "    except Exception as e:\n",
    "        logger.error(f\"An error occurred in main: {str(e)}\")\n",
    "        raise\n",
    "\n",
    "# Run the main function\n",
    "try:\n",
    "    df = asyncio.get_event_loop().run_until_complete(main())\n",
    "except Exception as e:\n",
    "    logger.error(f\"An error occurred while running the script: {str(e)}\")\n"
   ]
  },
  {
   "cell_type": "code",
   "execution_count": 17,
   "id": "be3f266b",
   "metadata": {},
   "outputs": [
    {
     "data": {
      "text/html": [
       "<div>\n",
       "<style scoped>\n",
       "    .dataframe tbody tr th:only-of-type {\n",
       "        vertical-align: middle;\n",
       "    }\n",
       "\n",
       "    .dataframe tbody tr th {\n",
       "        vertical-align: top;\n",
       "    }\n",
       "\n",
       "    .dataframe thead th {\n",
       "        text-align: right;\n",
       "    }\n",
       "</style>\n",
       "<table border=\"1\" class=\"dataframe\">\n",
       "  <thead>\n",
       "    <tr style=\"text-align: right;\">\n",
       "      <th></th>\n",
       "    </tr>\n",
       "  </thead>\n",
       "  <tbody>\n",
       "  </tbody>\n",
       "</table>\n",
       "</div>"
      ],
      "text/plain": [
       "Empty DataFrame\n",
       "Columns: []\n",
       "Index: []"
      ]
     },
     "execution_count": 17,
     "metadata": {},
     "output_type": "execute_result"
    }
   ],
   "source": [
    "df.head()"
   ]
  },
  {
   "cell_type": "code",
   "execution_count": null,
   "id": "9cc34188",
   "metadata": {},
   "outputs": [],
   "source": []
  }
 ],
 "metadata": {
  "kernelspec": {
   "display_name": "Python 3 (ipykernel)",
   "language": "python",
   "name": "python3"
  },
  "language_info": {
   "codemirror_mode": {
    "name": "ipython",
    "version": 3
   },
   "file_extension": ".py",
   "mimetype": "text/x-python",
   "name": "python",
   "nbconvert_exporter": "python",
   "pygments_lexer": "ipython3",
   "version": "3.9.6"
  }
 },
 "nbformat": 4,
 "nbformat_minor": 5
}
